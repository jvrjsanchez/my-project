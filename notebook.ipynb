{
 "cells": [
  {
   "cell_type": "markdown",
   "id": "c142a63f-11d5-42dd-8a25-29a1adb85fc0",
   "metadata": {},
   "source": [
    "# JupyterLab Introduction"
   ]
  },
  {
   "cell_type": "markdown",
   "id": "8c272ed6-6747-4afc-9089-b112046c61a7",
   "metadata": {},
   "source": [
    "## Imports"
   ]
  },
  {
   "cell_type": "code",
   "execution_count": null,
   "id": "2d169347-cb2a-40f4-a478-b0c8ba6442ce",
   "metadata": {
    "tags": []
   },
   "outputs": [],
   "source": [
    "import numpy as np\n",
    "import pandas as pd\n",
    "import matplotlib.pyplot as plt\n",
    "import seaborn as sns"
   ]
  },
  {
   "cell_type": "markdown",
   "id": "ccade997-fcb2-4ef0-9dc3-2d016b372867",
   "metadata": {},
   "source": [
    "## Plot Configuration"
   ]
  },
  {
   "cell_type": "code",
   "execution_count": null,
   "id": "4125f571-eb41-404c-bfc1-9ac218599925",
   "metadata": {
    "tags": []
   },
   "outputs": [],
   "source": [
    "sns.set_style(\"darkgrid\")\n",
    "%matplotlib widget"
   ]
  },
  {
   "cell_type": "markdown",
   "id": "0d350d87-047d-481d-b08d-319d71b70439",
   "metadata": {},
   "source": [
    "## Create Variables"
   ]
  },
  {
   "cell_type": "code",
   "execution_count": null,
   "id": "173be3fa-36b6-4776-a32b-10042d649cd6",
   "metadata": {
    "tags": []
   },
   "outputs": [],
   "source": [
    "a = \"Hello\"\n",
    "b = 1\n",
    "c = 2.1\n",
    "d = True\n",
    "e = [1, 2, 3, 4, 5]\n",
    "f = {\"fruit\": [\"apple\", \"banana\", \"pear\"],\n",
    "    \"quantity\": [2, 2, 1],\n",
    "    \"calories_per_unit\": [52, 89, 57]}\n",
    "g = np.array(e)\n",
    "h = pd.DataFrame(f)\n",
    "i = pd.read_excel(\"Book1.xlsx\")"
   ]
  },
  {
   "cell_type": "markdown",
   "id": "307db991-7984-47c9-8a78-076cf25297db",
   "metadata": {},
   "source": [
    "## Create Plot"
   ]
  },
  {
   "cell_type": "code",
   "execution_count": null,
   "id": "2bc1aaff-dfe2-4cf6-8038-cc4cb6f3f7fe",
   "metadata": {},
   "outputs": [],
   "source": [
    "plt.plot(i.x, i.y)"
   ]
  },
  {
   "cell_type": "markdown",
   "id": "e7d2409d-acbd-4412-9d5d-8fce218ce75c",
   "metadata": {},
   "source": [
    "## Access Tooltips"
   ]
  },
  {
   "cell_type": "code",
   "execution_count": null,
   "id": "aab2f087-790c-4bef-86a0-b355f0d1ae96",
   "metadata": {
    "scrolled": true,
    "tags": []
   },
   "outputs": [],
   "source": [
    "? plt.plot"
   ]
  },
  {
   "cell_type": "markdown",
   "id": "c5b15299-8a4b-4c3c-b525-dd5a0dabaa09",
   "metadata": {},
   "source": [
    "## Widgets"
   ]
  },
  {
   "cell_type": "code",
   "execution_count": null,
   "id": "b7cb6d19-9ed5-4d51-849a-e2afe6ce908e",
   "metadata": {},
   "outputs": [],
   "source": [
    "import ipywidgets as widgets"
   ]
  },
  {
   "cell_type": "code",
   "execution_count": null,
   "id": "9842845a-1f17-4aac-8909-93e19c2212fa",
   "metadata": {},
   "outputs": [],
   "source": [
    "widgets.FloatSlider()"
   ]
  },
  {
   "cell_type": "markdown",
   "id": "685231ba-5e35-4815-9d06-decf9d3699c7",
   "metadata": {},
   "source": [
    "## Plotly"
   ]
  },
  {
   "cell_type": "code",
   "execution_count": null,
   "id": "b4c9d883-bfc9-4ba6-9c3d-aa71e0363608",
   "metadata": {},
   "outputs": [],
   "source": [
    "import plotly.express as px"
   ]
  },
  {
   "cell_type": "code",
   "execution_count": null,
   "id": "d83cb386-be10-49a4-9eeb-109d22d25b1b",
   "metadata": {},
   "outputs": [],
   "source": [
    "px.line(data_frame = i, x=i.x, y=i.y)"
   ]
  },
  {
   "cell_type": "code",
   "execution_count": null,
   "id": "858d3240-81f6-428f-96a3-c4f1a71b24ff",
   "metadata": {},
   "outputs": [],
   "source": []
  }
 ],
 "metadata": {
  "kernelspec": {
   "display_name": "Python 3 (ipykernel)",
   "language": "python",
   "name": "python3"
  },
  "language_info": {
   "codemirror_mode": {
    "name": "ipython",
    "version": 3
   },
   "file_extension": ".py",
   "mimetype": "text/x-python",
   "name": "python",
   "nbconvert_exporter": "python",
   "pygments_lexer": "ipython3",
   "version": "3.11.5"
  }
 },
 "nbformat": 4,
 "nbformat_minor": 5
}
